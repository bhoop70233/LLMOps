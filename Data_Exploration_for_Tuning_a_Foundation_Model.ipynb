{
  "nbformat": 4,
  "nbformat_minor": 0,
  "metadata": {
    "colab": {
      "provenance": []
    },
    "kernelspec": {
      "name": "python3",
      "display_name": "Python 3"
    },
    "language_info": {
      "name": "python"
    }
  },
  "cells": [
    {
      "cell_type": "code",
      "execution_count": null,
      "metadata": {
        "id": "JztyVke-Q0f9"
      },
      "outputs": [],
      "source": [
        "!pip install google-cloud-aiplatform\n"
      ]
    },
    {
      "cell_type": "code",
      "source": [
        "REGION = \"us-central1\""
      ],
      "metadata": {
        "id": "sHhg5xc7Q98G"
      },
      "execution_count": null,
      "outputs": []
    },
    {
      "cell_type": "code",
      "source": [
        "import vertexai"
      ],
      "metadata": {
        "id": "e8-zb6oxRKcr"
      },
      "execution_count": null,
      "outputs": []
    },
    {
      "cell_type": "code",
      "source": [
        "vertexai.init(project = PROJECT_ID,\n",
        "              location = REGION,\n",
        "              credentials = credentials)"
      ],
      "metadata": {
        "id": "soggpCEXROsh"
      },
      "execution_count": null,
      "outputs": []
    },
    {
      "cell_type": "code",
      "source": [
        "from google.cloud import bigquery"
      ],
      "metadata": {
        "id": "Le5oXzRiRSlI"
      },
      "execution_count": null,
      "outputs": []
    },
    {
      "cell_type": "code",
      "source": [
        "bq_client = bigquery.Client(project=PROJECT_ID,\n",
        "                            credentials = credentials)"
      ],
      "metadata": {
        "collapsed": true,
        "id": "BQnxrGP8S9sS"
      },
      "execution_count": null,
      "outputs": []
    },
    {
      "cell_type": "code",
      "source": [
        "QUERY_TABLES = \"\"\"\n",
        "SELECT\n",
        "  table_name\n",
        "FROM\n",
        "  `bigquery-public-data.stackoverflow.INFORMATION_SCHEMA.TABLES`\n",
        "\"\"\""
      ],
      "metadata": {
        "id": "ssqUXzPIS_OA"
      },
      "execution_count": null,
      "outputs": []
    },
    {
      "cell_type": "code",
      "source": [
        "query_job = bq_client.query(QUERY_TABLES)"
      ],
      "metadata": {
        "id": "-pnqJPsDTBiq"
      },
      "execution_count": null,
      "outputs": []
    },
    {
      "cell_type": "code",
      "source": [
        "for row in query_job:\n",
        "    for value in row.values():\n",
        "        print(value)"
      ],
      "metadata": {
        "id": "EQxqNZgpTDuB"
      },
      "execution_count": null,
      "outputs": []
    },
    {
      "cell_type": "code",
      "source": [
        "INSPECT_QUERY = \"\"\"\n",
        "SELECT\n",
        "    *\n",
        "FROM\n",
        "    `bigquery-public-data.stackoverflow.posts_questions`\n",
        "LIMIT 3\n",
        "\"\"\""
      ],
      "metadata": {
        "id": "SFX0iXntTF4_"
      },
      "execution_count": null,
      "outputs": []
    },
    {
      "cell_type": "code",
      "source": [
        "import pandas as pd"
      ],
      "metadata": {
        "id": "Is4wiTv1TIIz"
      },
      "execution_count": null,
      "outputs": []
    },
    {
      "cell_type": "code",
      "source": [
        "query_job = bq_client.query(INSPECT_QUERY)"
      ],
      "metadata": {
        "id": "A2F9IPESTKGS"
      },
      "execution_count": null,
      "outputs": []
    },
    {
      "cell_type": "code",
      "source": [
        "stack_overflow_df = query_job\\\n",
        "    .result()\\\n",
        "    .to_arrow()\\\n",
        "    .to_pandas()\n",
        "stack_overflow_df.head()"
      ],
      "metadata": {
        "id": "0d_o_sK6TL4f"
      },
      "execution_count": null,
      "outputs": []
    },
    {
      "cell_type": "code",
      "source": [
        "QUERY_ALL = \"\"\"\n",
        "SELECT\n",
        "    *\n",
        "FROM\n",
        "    `bigquery-public-data.stackoverflow.posts_questions` q\n",
        "\"\"\""
      ],
      "metadata": {
        "id": "Ny5vrl7PTNpm"
      },
      "execution_count": null,
      "outputs": []
    },
    {
      "cell_type": "code",
      "source": [
        "query_job = bq_client.query(QUERY_ALL)"
      ],
      "metadata": {
        "id": "0gcvJiETTPws"
      },
      "execution_count": null,
      "outputs": []
    },
    {
      "cell_type": "code",
      "source": [
        "try:\n",
        "    stack_overflow_df = query_job\\\n",
        "    .result()\\\n",
        "    .to_arrow()\\\n",
        "    .to_pandas()\n",
        "except Exception as e:\n",
        "    print('The DataFrame is too large to load into memory.', e)"
      ],
      "metadata": {
        "id": "6KvIWAheTRZq"
      },
      "execution_count": null,
      "outputs": []
    },
    {
      "cell_type": "code",
      "source": [
        "QUERY = \"\"\"\n",
        "SELECT\n",
        "    CONCAT(q.title, q.body) as input_text,\n",
        "    a.body AS output_text\n",
        "FROM\n",
        "    `bigquery-public-data.stackoverflow.posts_questions` q\n",
        "JOIN\n",
        "    `bigquery-public-data.stackoverflow.posts_answers` a\n",
        "ON\n",
        "    q.accepted_answer_id = a.id\n",
        "WHERE\n",
        "    q.accepted_answer_id IS NOT NULL AND\n",
        "    REGEXP_CONTAINS(q.tags, \"python\") AND\n",
        "    a.creation_date >= \"2020-01-01\"\n",
        "LIMIT\n",
        "    10000\n",
        "\"\"\""
      ],
      "metadata": {
        "id": "sBahOjJcTvf8"
      },
      "execution_count": null,
      "outputs": []
    },
    {
      "cell_type": "code",
      "source": [
        "query_job = bq_client.query(QUERY)"
      ],
      "metadata": {
        "id": "CBKAcaixTyJu"
      },
      "execution_count": null,
      "outputs": []
    },
    {
      "cell_type": "code",
      "source": [
        "### this may take some seconds to run\n",
        "stack_overflow_df = query_job.result()\\\n",
        "                        .to_arrow()\\\n",
        "                        .to_pandas()\n",
        "\n",
        "stack_overflow_df.head(2)"
      ],
      "metadata": {
        "id": "B2mTLvzhT0TX"
      },
      "execution_count": null,
      "outputs": []
    },
    {
      "cell_type": "code",
      "source": [
        "INSTRUCTION_TEMPLATE = f\"\"\"\\\n",
        "Please answer the following Stackoverflow question on Python. \\\n",
        "Answer it like you are a developer answering Stackoverflow questions.\n",
        "\n",
        "Stackoverflow question:\n",
        "\"\"\""
      ],
      "metadata": {
        "id": "McETZd-XT2dD"
      },
      "execution_count": null,
      "outputs": []
    },
    {
      "cell_type": "code",
      "source": [
        "stack_overflow_df['input_text_instruct'] = INSTRUCTION_TEMPLATE + ' '\\\n",
        "    + stack_overflow_df['input_text']"
      ],
      "metadata": {
        "id": "ZUi7nWPNT4jq"
      },
      "execution_count": null,
      "outputs": []
    },
    {
      "cell_type": "code",
      "source": [
        "from sklearn.model_selection import train_test_split"
      ],
      "metadata": {
        "id": "UHT1bkAET6Vl"
      },
      "execution_count": null,
      "outputs": []
    },
    {
      "cell_type": "code",
      "source": [
        "train, evaluation = train_test_split(\n",
        "    stack_overflow_df,\n",
        "    ### test_size=0.2 means 20% for evaluation\n",
        "    ### which then makes train set to be of 80%\n",
        "    test_size=0.2,\n",
        "    random_state=42\n",
        ")"
      ],
      "metadata": {
        "id": "BtBcymkjT8Ss"
      },
      "execution_count": null,
      "outputs": []
    },
    {
      "cell_type": "code",
      "source": [
        "import datetime"
      ],
      "metadata": {
        "id": "I2MVx1vtT95X"
      },
      "execution_count": null,
      "outputs": []
    },
    {
      "cell_type": "code",
      "source": [
        "date = datetime.datetime.now().strftime(\"%H:%d:%m:%Y\")"
      ],
      "metadata": {
        "id": "NfKTwR0wT_xk"
      },
      "execution_count": null,
      "outputs": []
    },
    {
      "cell_type": "code",
      "source": [
        "cols = ['input_text_instruct','output_text']\n",
        "tune_jsonl = train[cols].to_json(orient=\"records\", lines=True)"
      ],
      "metadata": {
        "id": "tWAF0Mi7UBIX"
      },
      "execution_count": null,
      "outputs": []
    },
    {
      "cell_type": "code",
      "source": [
        "training_data_filename = f\"tune_data_stack_overflow_\\\n",
        "                            python_qa-{date}.jsonl\""
      ],
      "metadata": {
        "id": "qOOmb6BFUC8n"
      },
      "execution_count": null,
      "outputs": []
    },
    {
      "cell_type": "code",
      "source": [
        "with open(training_data_filename, \"w\") as f:\n",
        "    f.write(tune_jsonl)"
      ],
      "metadata": {
        "id": "yllpL33uUFfy"
      },
      "execution_count": null,
      "outputs": []
    },
    {
      "cell_type": "code",
      "source": [],
      "metadata": {
        "id": "vzqQbzhqUHF3"
      },
      "execution_count": null,
      "outputs": []
    }
  ]
}