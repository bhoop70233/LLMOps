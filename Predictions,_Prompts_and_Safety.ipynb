{
  "nbformat": 4,
  "nbformat_minor": 0,
  "metadata": {
    "colab": {
      "provenance": []
    },
    "kernelspec": {
      "name": "python3",
      "display_name": "Python 3"
    },
    "language_info": {
      "name": "python"
    }
  },
  "cells": [
    {
      "cell_type": "code",
      "execution_count": null,
      "metadata": {
        "id": "Yn-s7r8uqn2Q"
      },
      "outputs": [],
      "source": [
        "from utils import authenticate\n",
        "credentials, PROJECT_ID = authenticate()"
      ]
    },
    {
      "cell_type": "code",
      "source": [
        "REGION = \"us-central1\""
      ],
      "metadata": {
        "id": "MMksaeokqssf"
      },
      "execution_count": null,
      "outputs": []
    },
    {
      "cell_type": "code",
      "source": [
        "import vertexai\n",
        "from vertexai.language_models import TextGenerationModel"
      ],
      "metadata": {
        "id": "k22uo0iTquS4"
      },
      "execution_count": null,
      "outputs": []
    },
    {
      "cell_type": "code",
      "source": [
        "vertexai.init(project = PROJECT_ID,\n",
        "              location = REGION,\n",
        "              credentials = credentials)"
      ],
      "metadata": {
        "id": "y6fbNcNmqwVv"
      },
      "execution_count": null,
      "outputs": []
    },
    {
      "cell_type": "code",
      "source": [
        "model = TextGenerationModel.from_pretrained(\"text-bison@001\")"
      ],
      "metadata": {
        "id": "QOmlZMrBqx-p"
      },
      "execution_count": null,
      "outputs": []
    },
    {
      "cell_type": "code",
      "source": [
        "list_tuned_models = model.list_tuned_model_names()"
      ],
      "metadata": {
        "id": "SeJAiJnEq1UF"
      },
      "execution_count": null,
      "outputs": []
    },
    {
      "cell_type": "code",
      "source": [
        "for i in list_tuned_models:\n",
        "    print (i)"
      ],
      "metadata": {
        "id": "fFROfGCSq4cD"
      },
      "execution_count": null,
      "outputs": []
    },
    {
      "cell_type": "code",
      "source": [
        "import random"
      ],
      "metadata": {
        "id": "za7wLcnLq6Om"
      },
      "execution_count": null,
      "outputs": []
    },
    {
      "cell_type": "code",
      "source": [
        "tuned_model_select = random.choice(list_tuned_models)"
      ],
      "metadata": {
        "id": "Pj3ZZPt_q83S"
      },
      "execution_count": null,
      "outputs": []
    },
    {
      "cell_type": "code",
      "source": [
        "deployed_model = TextGenerationModel.get_tuned_model\\\n",
        "(tuned_model_select)"
      ],
      "metadata": {
        "id": "EROzQArFq-iu"
      },
      "execution_count": null,
      "outputs": []
    },
    {
      "cell_type": "code",
      "source": [
        "PROMPT = \"How can I load a csv file using Pandas?\""
      ],
      "metadata": {
        "id": "5YmICy-crDcK"
      },
      "execution_count": null,
      "outputs": []
    },
    {
      "cell_type": "code",
      "source": [
        "### depending on the latency of your prompt\n",
        "### it can take some time to load\n",
        "response = deployed_model.predict(PROMPT)"
      ],
      "metadata": {
        "id": "IhyrJNI5rE4o"
      },
      "execution_count": null,
      "outputs": []
    },
    {
      "cell_type": "code",
      "source": [
        "print(response)"
      ],
      "metadata": {
        "id": "lDlDTy1QrHVQ"
      },
      "execution_count": null,
      "outputs": []
    },
    {
      "cell_type": "code",
      "source": [
        "from pprint import pprint"
      ],
      "metadata": {
        "id": "tKJ4SiKSrJdE"
      },
      "execution_count": null,
      "outputs": []
    },
    {
      "cell_type": "code",
      "source": [
        "### load the first object of the response\n",
        "output = response._prediction_response[0]"
      ],
      "metadata": {
        "id": "xOvqw5ZFrLqA"
      },
      "execution_count": null,
      "outputs": []
    },
    {
      "cell_type": "code",
      "source": [
        "### print the first object of the response\n",
        "pprint(output)"
      ],
      "metadata": {
        "id": "7M2hPFycrNnJ"
      },
      "execution_count": null,
      "outputs": []
    },
    {
      "cell_type": "code",
      "source": [
        "### load the second object of the response\n",
        "output = response._prediction_response[0][0]"
      ],
      "metadata": {
        "id": "kKStFhBNrPTV"
      },
      "execution_count": null,
      "outputs": []
    },
    {
      "cell_type": "code",
      "source": [
        "### print the second object of the response\n",
        "pprint(output)"
      ],
      "metadata": {
        "id": "4wcvI2rQrRD3"
      },
      "execution_count": null,
      "outputs": []
    },
    {
      "cell_type": "code",
      "source": [
        "### retrieve the \"content\" key from the second object\n",
        "final_output = response._prediction_response[0][0][\"content\"]"
      ],
      "metadata": {
        "id": "jr644HkOrSxY"
      },
      "execution_count": null,
      "outputs": []
    },
    {
      "cell_type": "code",
      "source": [
        "### printing \"content\" key from the second object\n",
        "print(final_output)"
      ],
      "metadata": {
        "id": "7B4MUvhirUiA"
      },
      "execution_count": null,
      "outputs": []
    },
    {
      "cell_type": "code",
      "source": [
        "INSTRUCTION = \"\"\"\\\n",
        "Please answer the following Stackoverflow question on Python.\\\n",
        "Answer it like\\\n",
        "you are a developer answering Stackoverflow questions.\\\n",
        "Question:\n",
        "\"\"\""
      ],
      "metadata": {
        "id": "i-hjhK7KrWMj"
      },
      "execution_count": null,
      "outputs": []
    },
    {
      "cell_type": "code",
      "source": [
        "QUESTION = \"How can I store my TensorFlow checkpoint on\\\n",
        "Google Cloud Storage? Python example?\""
      ],
      "metadata": {
        "id": "CRSSe_yXreN0"
      },
      "execution_count": null,
      "outputs": []
    },
    {
      "cell_type": "code",
      "source": [
        "PROMPT = f\"\"\"\n",
        "{INSTRUCTION} {QUESTION}\n",
        "\"\"\""
      ],
      "metadata": {
        "id": "v1A5ocEmrhzL"
      },
      "execution_count": null,
      "outputs": []
    },
    {
      "cell_type": "code",
      "source": [
        "print(PROMPT)"
      ],
      "metadata": {
        "id": "vTgOQ6RLrk7n"
      },
      "execution_count": null,
      "outputs": []
    },
    {
      "cell_type": "code",
      "source": [
        "final_response = deployed_model.predict(PROMPT)"
      ],
      "metadata": {
        "id": "wOhQbfvermmz"
      },
      "execution_count": null,
      "outputs": []
    },
    {
      "cell_type": "code",
      "source": [
        "output = final_response._prediction_response[0][0][\"content\"]"
      ],
      "metadata": {
        "id": "oTrSUvSUrphr"
      },
      "execution_count": null,
      "outputs": []
    },
    {
      "cell_type": "code",
      "source": [
        "print(output)"
      ],
      "metadata": {
        "id": "OSjSaEavrtIE"
      },
      "execution_count": null,
      "outputs": []
    },
    {
      "cell_type": "code",
      "source": [
        "### retrieve the \"blocked\" key from the\n",
        "### \"safetyAttributes\" of the response\n",
        "blocked = response._prediction_response[0][0]\\\n",
        "['safetyAttributes']['blocked']"
      ],
      "metadata": {
        "id": "OQzbMmfPrvNr"
      },
      "execution_count": null,
      "outputs": []
    },
    {
      "cell_type": "code",
      "source": [
        "print(blocked)"
      ],
      "metadata": {
        "id": "TGJWkFGir1dD"
      },
      "execution_count": null,
      "outputs": []
    },
    {
      "cell_type": "code",
      "source": [
        "### retrieve the \"safetyAttributes\" of the response\n",
        "safety_attributes = response._prediction_response[0][0]\\\n",
        "['safetyAttributes']"
      ],
      "metadata": {
        "id": "KuLwcmhQr47U"
      },
      "execution_count": null,
      "outputs": []
    },
    {
      "cell_type": "code",
      "source": [
        "pprint(safety_attributes)"
      ],
      "metadata": {
        "id": "ahDeeSShr9nU"
      },
      "execution_count": null,
      "outputs": []
    },
    {
      "cell_type": "code",
      "source": [
        "### retrieve the \"citations\" key from the\n",
        "### \"citationMetadata\" of the response\n",
        "citation = response._prediction_response[0][0]\\\n",
        "['citationMetadata']['citations']"
      ],
      "metadata": {
        "id": "lkZf9n1gr_wc"
      },
      "execution_count": null,
      "outputs": []
    },
    {
      "cell_type": "code",
      "source": [
        "pprint(citation)"
      ],
      "metadata": {
        "id": "4Cb6gEVXsEgK"
      },
      "execution_count": null,
      "outputs": []
    },
    {
      "cell_type": "code",
      "source": [
        "PROMPT = \"Finish the sentence: To be, or not \""
      ],
      "metadata": {
        "id": "0ffemSrpsHpE"
      },
      "execution_count": null,
      "outputs": []
    },
    {
      "cell_type": "code",
      "source": [
        "response = deployed_model.predict(PROMPT)"
      ],
      "metadata": {
        "id": "DyjTZZEXsJ_y"
      },
      "execution_count": null,
      "outputs": []
    },
    {
      "cell_type": "code",
      "source": [
        "### output of the model\n",
        "output = response._prediction_response[0][0][\"content\"]\n",
        "print(output)"
      ],
      "metadata": {
        "id": "m-8S1ZzfsLz2"
      },
      "execution_count": null,
      "outputs": []
    },
    {
      "cell_type": "code",
      "source": [
        "### check for citation\n",
        "citation = response._prediction_response[0][0]\\\n",
        "['citationMetadata']['citations']\n",
        "\n",
        "pprint(citation)"
      ],
      "metadata": {
        "id": "1iyyygdtsNpc"
      },
      "execution_count": null,
      "outputs": []
    },
    {
      "cell_type": "code",
      "source": [],
      "metadata": {
        "id": "B3t5M8FQsQES"
      },
      "execution_count": null,
      "outputs": []
    }
  ]
}