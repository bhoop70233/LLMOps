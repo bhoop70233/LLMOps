{
  "nbformat": 4,
  "nbformat_minor": 0,
  "metadata": {
    "colab": {
      "provenance": []
    },
    "kernelspec": {
      "name": "python3",
      "display_name": "Python 3"
    },
    "language_info": {
      "name": "python"
    }
  },
  "cells": [
    {
      "cell_type": "code",
      "execution_count": null,
      "metadata": {
        "id": "TSj96NdwcPxc"
      },
      "outputs": [],
      "source": [
        "!pip install kfp\n",
        "from kfp import dsl\n",
        "from kfp import compiler\n",
        "\n",
        "# Ignore FutureWarnings in kfp\n",
        "import warnings\n",
        "warnings.filterwarnings(\"ignore\",\n",
        "                        category=FutureWarning,\n",
        "                        module='kfp.*')"
      ]
    },
    {
      "cell_type": "code",
      "source": [
        "### Simple example: component 1\n",
        "@dsl.component\n",
        "def say_hello(name: str) -> str:\n",
        "    hello_text = f'Hello, {name}!'\n",
        "\n",
        "    return hello_text"
      ],
      "metadata": {
        "id": "viPmyrKqc-WB"
      },
      "execution_count": null,
      "outputs": []
    },
    {
      "cell_type": "code",
      "source": [
        "hello_task = say_hello(name=\"Erwin\")\n",
        "print(hello_task)"
      ],
      "metadata": {
        "id": "xH1ESeUKdOea"
      },
      "execution_count": null,
      "outputs": []
    },
    {
      "cell_type": "code",
      "source": [
        "print(hello_task.output)"
      ],
      "metadata": {
        "id": "BW3b7_eJdR7_"
      },
      "execution_count": null,
      "outputs": []
    },
    {
      "cell_type": "code",
      "source": [
        "# this will give an error and ask you to specify the parameter name\n",
        "hello_task = say_hello(\"Erwin\")"
      ],
      "metadata": {
        "id": "qu0DxhnsdX4C"
      },
      "execution_count": null,
      "outputs": []
    },
    {
      "cell_type": "code",
      "source": [
        "### Simple example: component 2\n",
        "@dsl.component\n",
        "def how_are_you(hello_text: str) -> str:\n",
        "\n",
        "    how_are_you = f\"{hello_text}. How are you?\"\n",
        "\n",
        "    return how_are_you"
      ],
      "metadata": {
        "id": "wl54Cul1dbli"
      },
      "execution_count": null,
      "outputs": []
    },
    {
      "cell_type": "code",
      "source": [
        "how_task = how_are_you(hello_text=hello_task.output)\n",
        "print(how_task)\n",
        "print(how_task.output)"
      ],
      "metadata": {
        "id": "VT564CQ2dfCd"
      },
      "execution_count": null,
      "outputs": []
    },
    {
      "cell_type": "code",
      "source": [
        "# This will give an error and ask you to pass in a built-in data type\n",
        "how_task = how_are_you(hello_text=hello_task)\n",
        "print(how_task)\n",
        "print(how_task.output)"
      ],
      "metadata": {
        "id": "ypjhLhtcdjGc"
      },
      "execution_count": null,
      "outputs": []
    },
    {
      "cell_type": "code",
      "source": [
        "### Simple example: pipeline\n",
        "@dsl.pipeline\n",
        "def hello_pipeline(recipient: str) -> str:\n",
        "\n",
        "    # notice, just recipient and not recipient.output\n",
        "    hello_task = say_hello(name=recipient)\n",
        "\n",
        "    # notice .output\n",
        "    how_task = how_are_you(hello_text=hello_task.output)\n",
        "\n",
        "    # notice .output\n",
        "    return how_task.output"
      ],
      "metadata": {
        "id": "DvunsZHudk9R"
      },
      "execution_count": null,
      "outputs": []
    },
    {
      "cell_type": "code",
      "source": [
        "pipeline_output = hello_pipeline(recipient=\"Erwin\")\n",
        "print(pipeline_output)"
      ],
      "metadata": {
        "id": "1qpQvZvDdqMH"
      },
      "execution_count": null,
      "outputs": []
    },
    {
      "cell_type": "code",
      "source": [
        "### Pipeline with wrong return value type\n",
        "@dsl.pipeline\n",
        "def hello_pipeline_with_error(recipient: str) -> str:\n",
        "    hello_task = say_hello(name=recipient)\n",
        "    how_task = how_are_you(hello_text=hello_task.output)\n",
        "\n",
        "    return how_task\n",
        "    # returning the PipelineTask object itself will give you an error\n",
        ""
      ],
      "metadata": {
        "id": "OZdcJ6kAdtB3"
      },
      "execution_count": null,
      "outputs": []
    },
    {
      "cell_type": "code",
      "source": [
        "compiler.Compiler().compile(hello_pipeline, 'pipeline.yaml')"
      ],
      "metadata": {
        "id": "rIOHUpoUdvx2"
      },
      "execution_count": null,
      "outputs": []
    },
    {
      "cell_type": "code",
      "source": [
        "pipeline_arguments = {\n",
        "    \"recipient\": \"World!\",\n",
        "}"
      ],
      "metadata": {
        "id": "LCpEN24Ed1Ju"
      },
      "execution_count": null,
      "outputs": []
    },
    {
      "cell_type": "code",
      "source": [
        "!cat pipeline.yaml"
      ],
      "metadata": {
        "id": "G8ioeFqqd2-E"
      },
      "execution_count": null,
      "outputs": []
    },
    {
      "cell_type": "code",
      "source": [
        "```Python\n",
        "pipeline_root \"./\"\n",
        "\n",
        "job = PipelineJob(\n",
        "        ### path of the yaml file to execute\n",
        "        template_path=template_path,\n",
        "        ### name of the pipeline\n",
        "        display_name=f\"deep_learning_ai_pipeline-{date}\",\n",
        "        ### pipeline arguments (inputs)\n",
        "        parameter_values=pipeline_arguments,\n",
        "        ### region of execution\n",
        "        location=REGION,\n",
        "        ### root is where temporary files are being\n",
        "        ### stored by the execution engine\n",
        "        pipeline_root=pipeline_root,\n",
        "        ### enable_caching=True will save the outputs\n",
        "        ### of components for re-use, and will only re-run those\n",
        "        ### components for which the code or data has changed.\n",
        "        enable_caching=True,\n",
        ")\n",
        "\n",
        "### submit for execution\n",
        "job.submit()\n",
        "\n",
        "### check to see the status of the job\n",
        "job.state\n",
        "```"
      ],
      "metadata": {
        "id": "Y8vxrc68d5Bu"
      },
      "execution_count": null,
      "outputs": []
    },
    {
      "cell_type": "code",
      "source": [],
      "metadata": {
        "id": "VJ0VHAQMd_jV"
      },
      "execution_count": null,
      "outputs": []
    }
  ]
}